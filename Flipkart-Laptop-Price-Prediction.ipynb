{
 "cells": [
  {
   "cell_type": "markdown",
   "id": "c6907195",
   "metadata": {},
   "source": [
    "### Initialization"
   ]
  },
  {
   "cell_type": "code",
   "execution_count": 1,
   "id": "ce8e4e4c",
   "metadata": {},
   "outputs": [
    {
     "data": {
      "text/html": [
       "<div>\n",
       "<style scoped>\n",
       "    .dataframe tbody tr th:only-of-type {\n",
       "        vertical-align: middle;\n",
       "    }\n",
       "\n",
       "    .dataframe tbody tr th {\n",
       "        vertical-align: top;\n",
       "    }\n",
       "\n",
       "    .dataframe thead th {\n",
       "        text-align: right;\n",
       "    }\n",
       "</style>\n",
       "<table border=\"1\" class=\"dataframe\">\n",
       "  <thead>\n",
       "    <tr style=\"text-align: right;\">\n",
       "      <th></th>\n",
       "      <th>Name</th>\n",
       "      <th>Price</th>\n",
       "      <th>Rating</th>\n",
       "      <th>Processor</th>\n",
       "      <th>RAM</th>\n",
       "      <th>OS</th>\n",
       "      <th>Display</th>\n",
       "      <th>Storage</th>\n",
       "      <th>Warranty</th>\n",
       "    </tr>\n",
       "  </thead>\n",
       "  <tbody>\n",
       "    <tr>\n",
       "      <th>0</th>\n",
       "      <td>HP Intel Core i5 11th Gen - (8 GB/512 GB SSD/W...</td>\n",
       "      <td>₹49,990</td>\n",
       "      <td>4.3</td>\n",
       "      <td>Intel Core i5 Processor (11th Gen)</td>\n",
       "      <td>8 GB DDR4 RAM</td>\n",
       "      <td>64 bit Windows 11 Operating System</td>\n",
       "      <td>39.62 cm (15.6 Inch) Display</td>\n",
       "      <td>512 GB SSD</td>\n",
       "      <td>1 Year Onsite Warranty</td>\n",
       "    </tr>\n",
       "    <tr>\n",
       "      <th>1</th>\n",
       "      <td>HP (2023) Intel 12th Gen N305 Core i3 - (8 GB/...</td>\n",
       "      <td>₹41,990</td>\n",
       "      <td>NaN</td>\n",
       "      <td>Intel Core i3 Processor</td>\n",
       "      <td>8 GB DDR4 RAM</td>\n",
       "      <td>64 bit Windows 11 Operating System</td>\n",
       "      <td>35.56 cm (14 Inch) Display</td>\n",
       "      <td>512 GB SSD</td>\n",
       "      <td>1 Year Onsite Warranty</td>\n",
       "    </tr>\n",
       "    <tr>\n",
       "      <th>2</th>\n",
       "      <td>HP 15s (2023) Athlon Dual Core 3050U - (8 GB/5...</td>\n",
       "      <td>₹31,990</td>\n",
       "      <td>4.0</td>\n",
       "      <td>AMD Athlon Dual Core Processor</td>\n",
       "      <td>8 GB DDR4 RAM</td>\n",
       "      <td>Windows 11 Operating System</td>\n",
       "      <td>39.62 cm (15.6 Inch) Display</td>\n",
       "      <td>512 GB SSD</td>\n",
       "      <td>1 Year Onsite Warranty</td>\n",
       "    </tr>\n",
       "    <tr>\n",
       "      <th>3</th>\n",
       "      <td>APPLE 2020 Macbook Air M1 - (8 GB/256 GB SSD/M...</td>\n",
       "      <td>₹75,990</td>\n",
       "      <td>4.7</td>\n",
       "      <td>Apple M1 Processor</td>\n",
       "      <td>8 GB DDR4 RAM</td>\n",
       "      <td>Mac OS Operating System</td>\n",
       "      <td>33.78 cm (13.3 inch) Display</td>\n",
       "      <td>256 GB SSD</td>\n",
       "      <td>NaN</td>\n",
       "    </tr>\n",
       "    <tr>\n",
       "      <th>4</th>\n",
       "      <td>ASUS Vivobook 15 Core i5 11th Gen - (8 GB/512 ...</td>\n",
       "      <td>₹40,990</td>\n",
       "      <td>4.3</td>\n",
       "      <td>Intel Core i5 Processor (11th Gen)</td>\n",
       "      <td>8 GB DDR4 RAM</td>\n",
       "      <td>64 bit Windows 11 Operating System</td>\n",
       "      <td>39.62 cm (15.6 Inch) Display</td>\n",
       "      <td>512 GB SSD</td>\n",
       "      <td>1 Year Onsite Warranty</td>\n",
       "    </tr>\n",
       "  </tbody>\n",
       "</table>\n",
       "</div>"
      ],
      "text/plain": [
       "                                                Name    Price  Rating  \\\n",
       "0  HP Intel Core i5 11th Gen - (8 GB/512 GB SSD/W...  ₹49,990     4.3   \n",
       "1  HP (2023) Intel 12th Gen N305 Core i3 - (8 GB/...  ₹41,990     NaN   \n",
       "2  HP 15s (2023) Athlon Dual Core 3050U - (8 GB/5...  ₹31,990     4.0   \n",
       "3  APPLE 2020 Macbook Air M1 - (8 GB/256 GB SSD/M...  ₹75,990     4.7   \n",
       "4  ASUS Vivobook 15 Core i5 11th Gen - (8 GB/512 ...  ₹40,990     4.3   \n",
       "\n",
       "                            Processor            RAM  \\\n",
       "0  Intel Core i5 Processor (11th Gen)  8 GB DDR4 RAM   \n",
       "1             Intel Core i3 Processor  8 GB DDR4 RAM   \n",
       "2      AMD Athlon Dual Core Processor  8 GB DDR4 RAM   \n",
       "3                  Apple M1 Processor  8 GB DDR4 RAM   \n",
       "4  Intel Core i5 Processor (11th Gen)  8 GB DDR4 RAM   \n",
       "\n",
       "                                   OS                       Display  \\\n",
       "0  64 bit Windows 11 Operating System  39.62 cm (15.6 Inch) Display   \n",
       "1  64 bit Windows 11 Operating System    35.56 cm (14 Inch) Display   \n",
       "2         Windows 11 Operating System  39.62 cm (15.6 Inch) Display   \n",
       "3             Mac OS Operating System  33.78 cm (13.3 inch) Display   \n",
       "4  64 bit Windows 11 Operating System  39.62 cm (15.6 Inch) Display   \n",
       "\n",
       "      Storage                Warranty  \n",
       "0  512 GB SSD  1 Year Onsite Warranty  \n",
       "1  512 GB SSD  1 Year Onsite Warranty  \n",
       "2  512 GB SSD  1 Year Onsite Warranty  \n",
       "3  256 GB SSD                     NaN  \n",
       "4  512 GB SSD  1 Year Onsite Warranty  "
      ]
     },
     "execution_count": 1,
     "metadata": {},
     "output_type": "execute_result"
    }
   ],
   "source": [
    "import pandas as pd\n",
    "import numpy as np\n",
    "import re\n",
    "import warnings\n",
    "warnings.filterwarnings('ignore')\n",
    "\n",
    "df = pd.read_csv(\"A:\\Projects\\Web Scraping Projects\\Flipkart Scraping\\laptop_data.csv\")\n",
    "df.head()"
   ]
  },
  {
   "cell_type": "markdown",
   "id": "d9cf60b9",
   "metadata": {},
   "source": [
    "### Handling Duplicates"
   ]
  },
  {
   "cell_type": "code",
   "execution_count": 2,
   "id": "9bebd6d4",
   "metadata": {},
   "outputs": [
    {
     "data": {
      "text/plain": [
       "False    558\n",
       "True     426\n",
       "dtype: int64"
      ]
     },
     "execution_count": 2,
     "metadata": {},
     "output_type": "execute_result"
    }
   ],
   "source": [
    "df.duplicated().value_counts()"
   ]
  },
  {
   "cell_type": "code",
   "execution_count": 3,
   "id": "391f9bf8",
   "metadata": {},
   "outputs": [],
   "source": [
    "df.drop_duplicates(inplace=True)"
   ]
  },
  {
   "cell_type": "code",
   "execution_count": 4,
   "id": "22220b98",
   "metadata": {},
   "outputs": [],
   "source": [
    "df = df.reset_index(drop=True) # Reseting the indcies of the rows after deleting duplicate values"
   ]
  },
  {
   "cell_type": "code",
   "execution_count": 5,
   "id": "f74c4d53",
   "metadata": {},
   "outputs": [
    {
     "data": {
      "text/plain": [
       "Name           0\n",
       "Price          0\n",
       "Rating       193\n",
       "Processor      0\n",
       "RAM            0\n",
       "OS             0\n",
       "Display        0\n",
       "Storage      121\n",
       "Warranty      52\n",
       "dtype: int64"
      ]
     },
     "execution_count": 5,
     "metadata": {},
     "output_type": "execute_result"
    }
   ],
   "source": [
    "df.isnull().sum()"
   ]
  },
  {
   "cell_type": "code",
   "execution_count": 6,
   "id": "0f514e7d",
   "metadata": {},
   "outputs": [],
   "source": [
    "df.columns = df.columns.str.lower() # Setting the name of columns to lower cases"
   ]
  },
  {
   "cell_type": "markdown",
   "id": "667c1616",
   "metadata": {},
   "source": [
    "### Clean Name"
   ]
  },
  {
   "cell_type": "code",
   "execution_count": 7,
   "id": "7c49345c",
   "metadata": {},
   "outputs": [],
   "source": [
    "df['clean_name'] = df['name'].str.split().str.get(0)"
   ]
  },
  {
   "cell_type": "markdown",
   "id": "6709e585",
   "metadata": {},
   "source": [
    "### Clean Prices"
   ]
  },
  {
   "cell_type": "code",
   "execution_count": 8,
   "id": "a2a7ad6e",
   "metadata": {},
   "outputs": [
    {
     "data": {
      "text/plain": [
       "52990     13\n",
       "62990     12\n",
       "57990     10\n",
       "67990     10\n",
       "109990     8\n",
       "          ..\n",
       "46490      1\n",
       "70430      1\n",
       "590990     1\n",
       "85998      1\n",
       "37390      1\n",
       "Name: clean_price, Length: 287, dtype: int64"
      ]
     },
     "execution_count": 8,
     "metadata": {},
     "output_type": "execute_result"
    }
   ],
   "source": [
    "df['clean_price'] = df['price'].str.replace('₹', '').str.replace(',', '').astype(int)\n",
    "df.clean_price.value_counts()"
   ]
  },
  {
   "cell_type": "markdown",
   "id": "ddac0c67",
   "metadata": {},
   "source": [
    "### Clean Rating"
   ]
  },
  {
   "cell_type": "code",
   "execution_count": 9,
   "id": "4ac4a2e2",
   "metadata": {},
   "outputs": [],
   "source": [
    "df['clean_rating'] = round(df.rating.fillna(df.rating.mean()), 1)"
   ]
  },
  {
   "cell_type": "markdown",
   "id": "14bf13dc",
   "metadata": {},
   "source": [
    "### Clean Processor"
   ]
  },
  {
   "cell_type": "code",
   "execution_count": 10,
   "id": "ec93cfb6",
   "metadata": {},
   "outputs": [],
   "source": [
    "df['clean_processor'] = df.processor.str.replace('Processor: ', '').str.replace('Processor-', '')\n",
    "df['clean_processor2'] = df.name.str.replace('rd', '').str.replace('th', '')"
   ]
  },
  {
   "cell_type": "markdown",
   "id": "f4def14d",
   "metadata": {},
   "source": [
    "##### 1. Processor Brand"
   ]
  },
  {
   "cell_type": "code",
   "execution_count": 11,
   "id": "4bfdde45",
   "metadata": {},
   "outputs": [],
   "source": [
    "for i, k in zip(df.clean_processor, range(df.shape[0])):\n",
    "    a = i.split()\n",
    "    if a[0][0] == 'i':\n",
    "        df.at[k, 'processor_brand'] = 'Intel'\n",
    "    elif 'Ryzen' in a:\n",
    "        df.at[k, 'processor_brand'] = 'AMD'\n",
    "    else:\n",
    "        df.at[k, 'processor_brand'] = a[0]"
   ]
  },
  {
   "cell_type": "code",
   "execution_count": 12,
   "id": "6ca59fff",
   "metadata": {},
   "outputs": [
    {
     "data": {
      "text/plain": [
       "Intel       359\n",
       "AMD         176\n",
       "Apple        20\n",
       "MediaTek      3\n",
       "Name: processor_brand, dtype: int64"
      ]
     },
     "execution_count": 12,
     "metadata": {},
     "output_type": "execute_result"
    }
   ],
   "source": [
    "df.processor_brand.value_counts()"
   ]
  },
  {
   "cell_type": "markdown",
   "id": "e272844a",
   "metadata": {},
   "source": [
    "##### 2. Processor Core"
   ]
  },
  {
   "cell_type": "code",
   "execution_count": 13,
   "id": "ba77bff7",
   "metadata": {},
   "outputs": [],
   "source": [
    "df['core'] = df.processor.str.replace('Processor', '').str.replace('-', ' ')"
   ]
  },
  {
   "cell_type": "code",
   "execution_count": 14,
   "id": "fd34fbe7",
   "metadata": {},
   "outputs": [],
   "source": [
    "for i, k in zip(df.core, range(df.shape[0])):\n",
    "    a = i.split()\n",
    "    df.at[k, 'processor_core'] = (' '.join(a[1:3])).replace('Intel', 'Core')"
   ]
  },
  {
   "cell_type": "code",
   "execution_count": 15,
   "id": "897c89c2",
   "metadata": {},
   "outputs": [
    {
     "data": {
      "text/plain": [
       "Core i5              162\n",
       "Core i7               84\n",
       "Core i3               79\n",
       "Ryzen 5               71\n",
       "Ryzen 7               60\n",
       "Ryzen 3               25\n",
       "Core i9               21\n",
       "Ryzen 9               13\n",
       "M2                    11\n",
       "Celeron Dual           9\n",
       "M2 Pro                 4\n",
       "Celeron Quad           3\n",
       "M1 Pro                 3\n",
       "Athlon Dual            3\n",
       "MediaTek MT8788        2\n",
       "M1                     2\n",
       "Dual Core              1\n",
       "Ryzen R5               1\n",
       "MediaTek Kompanio      1\n",
       "R3 5425U               1\n",
       "1115G4 upto            1\n",
       "Pentium Quad           1\n",
       "Name: processor_core, dtype: int64"
      ]
     },
     "execution_count": 15,
     "metadata": {},
     "output_type": "execute_result"
    }
   ],
   "source": [
    "df.processor_core.value_counts()"
   ]
  },
  {
   "cell_type": "code",
   "execution_count": 16,
   "id": "10efc8ce",
   "metadata": {},
   "outputs": [],
   "source": [
    "df.loc[308, 'processor_core'] = 'Ryzen 3'\n",
    "df.loc[237, 'processor_core'] = 'Core i3'\n",
    "df.loc[350, 'processor_core'] = 'Ryzen 5'"
   ]
  },
  {
   "cell_type": "code",
   "execution_count": 17,
   "id": "bf38d463",
   "metadata": {},
   "outputs": [],
   "source": [
    "for i, k in zip(df.processor_core, range(df.shape[0])):\n",
    "    a = i.split()\n",
    "    if a[0] == 'Core':\n",
    "        df.at[k, 'processor_core'] = str('Intel ' + i)\n",
    "    else:\n",
    "        if df.at[k, 'processor_brand'] == 'Intel':\n",
    "            df.at[k, 'processor_core'] = 'Intel Multi Core'\n",
    "        elif a[0] != 'Ryzen' and df.at[k, 'processor_brand'] == 'AMD':\n",
    "            df.at[k, 'processor_core'] = 'Ryzen Multi Core'"
   ]
  },
  {
   "cell_type": "code",
   "execution_count": 18,
   "id": "87cab359",
   "metadata": {},
   "outputs": [
    {
     "data": {
      "text/plain": [
       "Intel Core i5        162\n",
       "Intel Core i7         84\n",
       "Intel Core i3         80\n",
       "Ryzen 5               72\n",
       "Ryzen 7               60\n",
       "Ryzen 3               26\n",
       "Intel Core i9         21\n",
       "Intel Multi Core      13\n",
       "Ryzen 9               13\n",
       "M2                    11\n",
       "Ryzen Multi Core       4\n",
       "M2 Pro                 4\n",
       "M1 Pro                 3\n",
       "M1                     2\n",
       "MediaTek MT8788        2\n",
       "MediaTek Kompanio      1\n",
       "Name: processor_core, dtype: int64"
      ]
     },
     "execution_count": 18,
     "metadata": {},
     "output_type": "execute_result"
    }
   ],
   "source": [
    "df.processor_core.value_counts()"
   ]
  },
  {
   "cell_type": "markdown",
   "id": "c9d09ab5",
   "metadata": {},
   "source": [
    "##### 3. Processor Generation"
   ]
  },
  {
   "cell_type": "code",
   "execution_count": 19,
   "id": "198f5e60",
   "metadata": {},
   "outputs": [],
   "source": [
    "for i, k in zip(df.clean_processor2, range(df.shape[0])):\n",
    "    a = i.split()\n",
    "    if 'Gen' in a:\n",
    "        df.at[k, 'generation'] = a[a.index('Gen') - 1]\n",
    "    else:\n",
    "        df.at[k, 'generation'] = 0"
   ]
  },
  {
   "cell_type": "code",
   "execution_count": 20,
   "id": "e562d17a",
   "metadata": {},
   "outputs": [],
   "source": [
    "df.generation = df.generation.astype(int)"
   ]
  },
  {
   "cell_type": "code",
   "execution_count": 21,
   "id": "e7b0e5a9",
   "metadata": {},
   "outputs": [
    {
     "data": {
      "text/plain": [
       "0     206\n",
       "11    123\n",
       "12    122\n",
       "13     74\n",
       "10     25\n",
       "7       3\n",
       "8       3\n",
       "6       1\n",
       "3       1\n",
       "Name: generation, dtype: int64"
      ]
     },
     "execution_count": 21,
     "metadata": {},
     "output_type": "execute_result"
    }
   ],
   "source": [
    "df.generation.value_counts()"
   ]
  },
  {
   "cell_type": "markdown",
   "id": "b6092047",
   "metadata": {},
   "source": [
    "### Clean RAM"
   ]
  },
  {
   "cell_type": "code",
   "execution_count": 22,
   "id": "cf1bbe6a",
   "metadata": {},
   "outputs": [
    {
     "data": {
      "text/plain": [
       "8     265\n",
       "16    248\n",
       "32     24\n",
       "4      18\n",
       "64      3\n",
       "Name: clean_ram, dtype: int64"
      ]
     },
     "execution_count": 22,
     "metadata": {},
     "output_type": "execute_result"
    }
   ],
   "source": [
    "df['clean_ram'] = df['ram'].apply(lambda x: re.search(r'(\\d+)\\s*GB', x).group(1)).astype(int)\n",
    "df.clean_ram.value_counts()"
   ]
  },
  {
   "cell_type": "markdown",
   "id": "07084a7e",
   "metadata": {},
   "source": [
    "### Clean OS"
   ]
  },
  {
   "cell_type": "code",
   "execution_count": 23,
   "id": "4c9bdcab",
   "metadata": {},
   "outputs": [
    {
     "data": {
      "text/plain": [
       "Windows 11     475\n",
       "Windows 10      51\n",
       "Mac OS          20\n",
       "Chrome           5\n",
       "DOS              5\n",
       "Prime OS         2\n",
       "Name: clean_os, dtype: int64"
      ]
     },
     "execution_count": 23,
     "metadata": {},
     "output_type": "execute_result"
    }
   ],
   "source": [
    "import re\n",
    "df['clean_os'] = df['os'].str.replace('Operating System', '').str.replace(r'^OS', '').str.replace('64 bit ', '').str.replace('32 bit ', '')\n",
    "df.clean_os.value_counts()"
   ]
  },
  {
   "cell_type": "markdown",
   "id": "3aa780ef",
   "metadata": {},
   "source": [
    "### Clean Display"
   ]
  },
  {
   "cell_type": "code",
   "execution_count": 24,
   "id": "c6a087e4",
   "metadata": {},
   "outputs": [],
   "source": [
    "df.display = df.display.str.replace('(', '').str.replace(')', '').str.replace('\"', '')"
   ]
  },
  {
   "cell_type": "code",
   "execution_count": 25,
   "id": "14f22c28",
   "metadata": {},
   "outputs": [],
   "source": [
    "for i, k in zip(df.display, range(df.shape[0])):\n",
    "    a = i.split()\n",
    "    if 'Inch' in a:\n",
    "        df.at[k, 'clean_display'] = str(a[a.index('Inch') - 1])\n",
    "    elif 'inch' in a:\n",
    "        df.at[k, 'clean_display'] = str(a[a.index('inch') - 1])\n",
    "    elif ['inch', 'Inch'] not in a:\n",
    "        for j in a:\n",
    "            if j.replace('.', '', 1).isdigit() and 30 < float(j) < 50:\n",
    "                df.at[k, 'clean_display'] = round(float(j) / 2.54, 1)"
   ]
  },
  {
   "cell_type": "code",
   "execution_count": 26,
   "id": "21178e26",
   "metadata": {},
   "outputs": [],
   "source": [
    "df.clean_display = df.clean_display.astype('float')"
   ]
  },
  {
   "cell_type": "code",
   "execution_count": 27,
   "id": "0e4af3a0",
   "metadata": {},
   "outputs": [],
   "source": [
    "df.clean_display = round(df.clean_display, 1)"
   ]
  },
  {
   "cell_type": "code",
   "execution_count": 28,
   "id": "b1b7387f",
   "metadata": {},
   "outputs": [
    {
     "data": {
      "text/plain": [
       "array([15.6, 14. , 13.3, 11.6, 16.1, 14.1, 15.4, 14.4, 17.3, 16. , 13.6,\n",
       "       15. , 18. , 13.5, 13.8, 15.3, 13.4, 14.5, 16.2, 14.2, 17. ])"
      ]
     },
     "execution_count": 28,
     "metadata": {},
     "output_type": "execute_result"
    }
   ],
   "source": [
    "df.clean_display.unique()"
   ]
  },
  {
   "cell_type": "markdown",
   "id": "5112603b",
   "metadata": {},
   "source": [
    "##### 1. TouchScreen Dispaly"
   ]
  },
  {
   "cell_type": "code",
   "execution_count": 29,
   "id": "ad9eea8c",
   "metadata": {},
   "outputs": [],
   "source": [
    "df['touchscreen'] = df.display.apply(lambda x: 1 if 'Touchscreen' in x else 0)"
   ]
  },
  {
   "cell_type": "markdown",
   "id": "56ee8175",
   "metadata": {},
   "source": [
    "### Clean Storage"
   ]
  },
  {
   "cell_type": "code",
   "execution_count": 30,
   "id": "b7469c72",
   "metadata": {},
   "outputs": [],
   "source": [
    "df['clean_storage'] = df.name.str.replace('/', ' , ')"
   ]
  },
  {
   "cell_type": "markdown",
   "id": "20f201d2",
   "metadata": {},
   "source": [
    "##### 1. Clean SSD Storage"
   ]
  },
  {
   "cell_type": "code",
   "execution_count": 31,
   "id": "3499c7f2",
   "metadata": {},
   "outputs": [],
   "source": [
    "for i, k in zip(df.clean_storage, range(df.shape[0])):\n",
    "    a = i.split()\n",
    "    if 'SSD' in a:\n",
    "        if a[a.index('SSD') - 2] < '10':\n",
    "            df.at[k, 'clean_ssd'] = str(int(a[a.index('SSD') - 2]) * 1024)\n",
    "        else:\n",
    "            df.at[k, 'clean_ssd'] = str(a[a.index('SSD') - 2])\n",
    "    else:\n",
    "        df.at[k, 'clean_ssd'] = 0"
   ]
  },
  {
   "cell_type": "code",
   "execution_count": 32,
   "id": "532c2e01",
   "metadata": {},
   "outputs": [],
   "source": [
    "df.clean_ssd = df.clean_ssd.astype(int)"
   ]
  },
  {
   "cell_type": "code",
   "execution_count": 33,
   "id": "9a1a3977",
   "metadata": {},
   "outputs": [
    {
     "data": {
      "text/plain": [
       "512     383\n",
       "1024     99\n",
       "256      51\n",
       "0        12\n",
       "2         9\n",
       "128       3\n",
       "4         1\n",
       "Name: clean_ssd, dtype: int64"
      ]
     },
     "execution_count": 33,
     "metadata": {},
     "output_type": "execute_result"
    }
   ],
   "source": [
    "df.clean_ssd.value_counts()"
   ]
  },
  {
   "cell_type": "markdown",
   "id": "017bcb53",
   "metadata": {},
   "source": [
    "##### 2. Clean HDD Storage"
   ]
  },
  {
   "cell_type": "code",
   "execution_count": 34,
   "id": "2f475ef8",
   "metadata": {},
   "outputs": [],
   "source": [
    "for i, k in zip(df.clean_storage, range(df.shape[0])):\n",
    "    a = i.split()\n",
    "    if 'HDD' in a:\n",
    "        if a[a.index('HDD') - 2] < '10':\n",
    "            df.at[k, 'clean_hdd'] = str(int(a[a.index('HDD') - 2]) * 1024)\n",
    "        else:\n",
    "            df.at[k, 'clean_hdd'] = str(a[a.index('HDD') - 2])\n",
    "    else:\n",
    "        df.at[k, 'clean_hdd'] = str(0)"
   ]
  },
  {
   "cell_type": "code",
   "execution_count": 35,
   "id": "0f8c977a",
   "metadata": {},
   "outputs": [],
   "source": [
    "df.clean_hdd = df.clean_hdd.astype(int)"
   ]
  },
  {
   "cell_type": "code",
   "execution_count": 36,
   "id": "df285618",
   "metadata": {},
   "outputs": [
    {
     "data": {
      "text/plain": [
       "0       538\n",
       "1024     20\n",
       "Name: clean_hdd, dtype: int64"
      ]
     },
     "execution_count": 36,
     "metadata": {},
     "output_type": "execute_result"
    }
   ],
   "source": [
    "df.clean_hdd.value_counts()"
   ]
  },
  {
   "cell_type": "markdown",
   "id": "4c5b4e5f",
   "metadata": {},
   "source": [
    "### Clean Warranty"
   ]
  },
  {
   "cell_type": "code",
   "execution_count": 37,
   "id": "222c67e6",
   "metadata": {},
   "outputs": [
    {
     "data": {
      "text/plain": [
       "1         421\n",
       "2          70\n",
       "3           6\n",
       "1-year      5\n",
       "1Year       3\n",
       "One         1\n",
       "Name: clean_warranty, dtype: int64"
      ]
     },
     "execution_count": 37,
     "metadata": {},
     "output_type": "execute_result"
    }
   ],
   "source": [
    "df['clean_warranty'] = df['warranty'].str.split().str.get(0)\n",
    "df['clean_warranty'].value_counts()"
   ]
  },
  {
   "cell_type": "code",
   "execution_count": 38,
   "id": "ca139fc3",
   "metadata": {},
   "outputs": [
    {
     "data": {
      "text/plain": [
       "1    430\n",
       "2     70\n",
       "3      6\n",
       "Name: clean_warranty, dtype: int64"
      ]
     },
     "execution_count": 38,
     "metadata": {},
     "output_type": "execute_result"
    }
   ],
   "source": [
    "df['clean_warranty'] = df.clean_warranty.replace(['1Year', '1-year', 'One'], ['1', '1', '1'])\n",
    "df.clean_warranty.value_counts()"
   ]
  },
  {
   "cell_type": "code",
   "execution_count": 39,
   "id": "40adfdb2",
   "metadata": {},
   "outputs": [
    {
     "data": {
      "text/plain": [
       "1    482\n",
       "2     70\n",
       "3      6\n",
       "Name: clean_warranty, dtype: int64"
      ]
     },
     "execution_count": 39,
     "metadata": {},
     "output_type": "execute_result"
    }
   ],
   "source": [
    "df.clean_warranty = df.clean_warranty.fillna(df.clean_warranty.mode()[0])\n",
    "df.clean_warranty.value_counts()"
   ]
  },
  {
   "cell_type": "code",
   "execution_count": 40,
   "id": "65dcf326",
   "metadata": {},
   "outputs": [],
   "source": [
    "df.clean_warranty = df.clean_warranty.astype(int)"
   ]
  },
  {
   "cell_type": "code",
   "execution_count": 41,
   "id": "a79f7ce1",
   "metadata": {},
   "outputs": [
    {
     "data": {
      "text/html": [
       "<div>\n",
       "<style scoped>\n",
       "    .dataframe tbody tr th:only-of-type {\n",
       "        vertical-align: middle;\n",
       "    }\n",
       "\n",
       "    .dataframe tbody tr th {\n",
       "        vertical-align: top;\n",
       "    }\n",
       "\n",
       "    .dataframe thead th {\n",
       "        text-align: right;\n",
       "    }\n",
       "</style>\n",
       "<table border=\"1\" class=\"dataframe\">\n",
       "  <thead>\n",
       "    <tr style=\"text-align: right;\">\n",
       "      <th></th>\n",
       "      <th>clean_name</th>\n",
       "      <th>clean_price</th>\n",
       "      <th>clean_rating</th>\n",
       "      <th>clean_processor</th>\n",
       "      <th>clean_processor2</th>\n",
       "      <th>processor_brand</th>\n",
       "      <th>core</th>\n",
       "      <th>processor_core</th>\n",
       "      <th>generation</th>\n",
       "      <th>clean_ram</th>\n",
       "      <th>clean_os</th>\n",
       "      <th>clean_display</th>\n",
       "      <th>touchscreen</th>\n",
       "      <th>clean_storage</th>\n",
       "      <th>clean_ssd</th>\n",
       "      <th>clean_hdd</th>\n",
       "      <th>clean_warranty</th>\n",
       "    </tr>\n",
       "  </thead>\n",
       "  <tbody>\n",
       "    <tr>\n",
       "      <th>0</th>\n",
       "      <td>HP</td>\n",
       "      <td>49990</td>\n",
       "      <td>4.3</td>\n",
       "      <td>Intel Core i5 Processor (11th Gen)</td>\n",
       "      <td>HP Intel Core i5 11 Gen - (8 GB/512 GB SSD/Win...</td>\n",
       "      <td>Intel</td>\n",
       "      <td>Intel Core i5  (11th Gen)</td>\n",
       "      <td>Intel Core i5</td>\n",
       "      <td>11</td>\n",
       "      <td>8</td>\n",
       "      <td>Windows 11</td>\n",
       "      <td>15.6</td>\n",
       "      <td>0</td>\n",
       "      <td>HP Intel Core i5 11th Gen - (8 GB , 512 GB SSD...</td>\n",
       "      <td>512</td>\n",
       "      <td>0</td>\n",
       "      <td>1</td>\n",
       "    </tr>\n",
       "    <tr>\n",
       "      <th>1</th>\n",
       "      <td>HP</td>\n",
       "      <td>41990</td>\n",
       "      <td>4.2</td>\n",
       "      <td>Intel Core i3 Processor</td>\n",
       "      <td>HP (2023) Intel 12 Gen N305 Core i3 - (8 GB/51...</td>\n",
       "      <td>Intel</td>\n",
       "      <td>Intel Core i3</td>\n",
       "      <td>Intel Core i3</td>\n",
       "      <td>12</td>\n",
       "      <td>8</td>\n",
       "      <td>Windows 11</td>\n",
       "      <td>14.0</td>\n",
       "      <td>0</td>\n",
       "      <td>HP (2023) Intel 12th Gen N305 Core i3 - (8 GB ...</td>\n",
       "      <td>512</td>\n",
       "      <td>0</td>\n",
       "      <td>1</td>\n",
       "    </tr>\n",
       "    <tr>\n",
       "      <th>2</th>\n",
       "      <td>HP</td>\n",
       "      <td>31990</td>\n",
       "      <td>4.0</td>\n",
       "      <td>AMD Athlon Dual Core Processor</td>\n",
       "      <td>HP 15s (2023) Alon Dual Core 3050U - (8 GB/512...</td>\n",
       "      <td>AMD</td>\n",
       "      <td>AMD Athlon Dual Core</td>\n",
       "      <td>Ryzen Multi Core</td>\n",
       "      <td>0</td>\n",
       "      <td>8</td>\n",
       "      <td>Windows 11</td>\n",
       "      <td>15.6</td>\n",
       "      <td>0</td>\n",
       "      <td>HP 15s (2023) Athlon Dual Core 3050U - (8 GB ,...</td>\n",
       "      <td>512</td>\n",
       "      <td>0</td>\n",
       "      <td>1</td>\n",
       "    </tr>\n",
       "  </tbody>\n",
       "</table>\n",
       "</div>"
      ],
      "text/plain": [
       "  clean_name  clean_price  clean_rating                     clean_processor  \\\n",
       "0         HP        49990           4.3  Intel Core i5 Processor (11th Gen)   \n",
       "1         HP        41990           4.2             Intel Core i3 Processor   \n",
       "2         HP        31990           4.0      AMD Athlon Dual Core Processor   \n",
       "\n",
       "                                    clean_processor2 processor_brand  \\\n",
       "0  HP Intel Core i5 11 Gen - (8 GB/512 GB SSD/Win...           Intel   \n",
       "1  HP (2023) Intel 12 Gen N305 Core i3 - (8 GB/51...           Intel   \n",
       "2  HP 15s (2023) Alon Dual Core 3050U - (8 GB/512...             AMD   \n",
       "\n",
       "                        core    processor_core  generation  clean_ram  \\\n",
       "0  Intel Core i5  (11th Gen)     Intel Core i5          11          8   \n",
       "1             Intel Core i3      Intel Core i3          12          8   \n",
       "2      AMD Athlon Dual Core   Ryzen Multi Core           0          8   \n",
       "\n",
       "      clean_os  clean_display  touchscreen  \\\n",
       "0  Windows 11            15.6            0   \n",
       "1  Windows 11            14.0            0   \n",
       "2  Windows 11            15.6            0   \n",
       "\n",
       "                                       clean_storage  clean_ssd  clean_hdd  \\\n",
       "0  HP Intel Core i5 11th Gen - (8 GB , 512 GB SSD...        512          0   \n",
       "1  HP (2023) Intel 12th Gen N305 Core i3 - (8 GB ...        512          0   \n",
       "2  HP 15s (2023) Athlon Dual Core 3050U - (8 GB ,...        512          0   \n",
       "\n",
       "   clean_warranty  \n",
       "0               1  \n",
       "1               1  \n",
       "2               1  "
      ]
     },
     "execution_count": 41,
     "metadata": {},
     "output_type": "execute_result"
    }
   ],
   "source": [
    "df.iloc[:, 9:].head(3)"
   ]
  },
  {
   "cell_type": "markdown",
   "id": "0fa24ec7",
   "metadata": {},
   "source": [
    "### Cleaning Columns"
   ]
  },
  {
   "cell_type": "code",
   "execution_count": 42,
   "id": "b1d9cf54",
   "metadata": {},
   "outputs": [],
   "source": [
    "df.drop(columns=['clean_processor', 'clean_processor2', 'core', 'clean_storage'], inplace=True)"
   ]
  },
  {
   "cell_type": "code",
   "execution_count": 43,
   "id": "1260292f",
   "metadata": {},
   "outputs": [],
   "source": [
    "df.drop(columns=['name', 'price', 'rating', 'processor', 'ram', 'os', 'display', 'storage', 'warranty'], inplace=True)"
   ]
  },
  {
   "cell_type": "code",
   "execution_count": 44,
   "id": "5356ad9c",
   "metadata": {},
   "outputs": [
    {
     "data": {
      "text/html": [
       "<div>\n",
       "<style scoped>\n",
       "    .dataframe tbody tr th:only-of-type {\n",
       "        vertical-align: middle;\n",
       "    }\n",
       "\n",
       "    .dataframe tbody tr th {\n",
       "        vertical-align: top;\n",
       "    }\n",
       "\n",
       "    .dataframe thead th {\n",
       "        text-align: right;\n",
       "    }\n",
       "</style>\n",
       "<table border=\"1\" class=\"dataframe\">\n",
       "  <thead>\n",
       "    <tr style=\"text-align: right;\">\n",
       "      <th></th>\n",
       "      <th>clean_name</th>\n",
       "      <th>clean_price</th>\n",
       "      <th>clean_rating</th>\n",
       "      <th>processor_brand</th>\n",
       "      <th>processor_core</th>\n",
       "      <th>generation</th>\n",
       "      <th>clean_ram</th>\n",
       "      <th>clean_os</th>\n",
       "      <th>clean_display</th>\n",
       "      <th>touchscreen</th>\n",
       "      <th>clean_ssd</th>\n",
       "      <th>clean_hdd</th>\n",
       "      <th>clean_warranty</th>\n",
       "    </tr>\n",
       "  </thead>\n",
       "  <tbody>\n",
       "    <tr>\n",
       "      <th>0</th>\n",
       "      <td>HP</td>\n",
       "      <td>49990</td>\n",
       "      <td>4.3</td>\n",
       "      <td>Intel</td>\n",
       "      <td>Intel Core i5</td>\n",
       "      <td>11</td>\n",
       "      <td>8</td>\n",
       "      <td>Windows 11</td>\n",
       "      <td>15.6</td>\n",
       "      <td>0</td>\n",
       "      <td>512</td>\n",
       "      <td>0</td>\n",
       "      <td>1</td>\n",
       "    </tr>\n",
       "    <tr>\n",
       "      <th>1</th>\n",
       "      <td>HP</td>\n",
       "      <td>41990</td>\n",
       "      <td>4.2</td>\n",
       "      <td>Intel</td>\n",
       "      <td>Intel Core i3</td>\n",
       "      <td>12</td>\n",
       "      <td>8</td>\n",
       "      <td>Windows 11</td>\n",
       "      <td>14.0</td>\n",
       "      <td>0</td>\n",
       "      <td>512</td>\n",
       "      <td>0</td>\n",
       "      <td>1</td>\n",
       "    </tr>\n",
       "    <tr>\n",
       "      <th>2</th>\n",
       "      <td>HP</td>\n",
       "      <td>31990</td>\n",
       "      <td>4.0</td>\n",
       "      <td>AMD</td>\n",
       "      <td>Ryzen Multi Core</td>\n",
       "      <td>0</td>\n",
       "      <td>8</td>\n",
       "      <td>Windows 11</td>\n",
       "      <td>15.6</td>\n",
       "      <td>0</td>\n",
       "      <td>512</td>\n",
       "      <td>0</td>\n",
       "      <td>1</td>\n",
       "    </tr>\n",
       "    <tr>\n",
       "      <th>3</th>\n",
       "      <td>APPLE</td>\n",
       "      <td>75990</td>\n",
       "      <td>4.7</td>\n",
       "      <td>Apple</td>\n",
       "      <td>M1</td>\n",
       "      <td>0</td>\n",
       "      <td>8</td>\n",
       "      <td>Mac OS</td>\n",
       "      <td>13.3</td>\n",
       "      <td>0</td>\n",
       "      <td>256</td>\n",
       "      <td>0</td>\n",
       "      <td>1</td>\n",
       "    </tr>\n",
       "    <tr>\n",
       "      <th>4</th>\n",
       "      <td>ASUS</td>\n",
       "      <td>40990</td>\n",
       "      <td>4.3</td>\n",
       "      <td>Intel</td>\n",
       "      <td>Intel Core i5</td>\n",
       "      <td>11</td>\n",
       "      <td>8</td>\n",
       "      <td>Windows 11</td>\n",
       "      <td>15.6</td>\n",
       "      <td>0</td>\n",
       "      <td>512</td>\n",
       "      <td>0</td>\n",
       "      <td>1</td>\n",
       "    </tr>\n",
       "    <tr>\n",
       "      <th>5</th>\n",
       "      <td>ASUS</td>\n",
       "      <td>34990</td>\n",
       "      <td>4.3</td>\n",
       "      <td>Intel</td>\n",
       "      <td>Intel Core i3</td>\n",
       "      <td>11</td>\n",
       "      <td>8</td>\n",
       "      <td>Windows 11</td>\n",
       "      <td>15.6</td>\n",
       "      <td>0</td>\n",
       "      <td>512</td>\n",
       "      <td>0</td>\n",
       "      <td>1</td>\n",
       "    </tr>\n",
       "    <tr>\n",
       "      <th>6</th>\n",
       "      <td>Lenovo</td>\n",
       "      <td>33990</td>\n",
       "      <td>4.1</td>\n",
       "      <td>AMD</td>\n",
       "      <td>Ryzen 5</td>\n",
       "      <td>0</td>\n",
       "      <td>8</td>\n",
       "      <td>Windows 11</td>\n",
       "      <td>15.6</td>\n",
       "      <td>0</td>\n",
       "      <td>512</td>\n",
       "      <td>0</td>\n",
       "      <td>1</td>\n",
       "    </tr>\n",
       "    <tr>\n",
       "      <th>7</th>\n",
       "      <td>HP</td>\n",
       "      <td>19990</td>\n",
       "      <td>3.7</td>\n",
       "      <td>Intel</td>\n",
       "      <td>Intel Multi Core</td>\n",
       "      <td>0</td>\n",
       "      <td>4</td>\n",
       "      <td>Chrome</td>\n",
       "      <td>14.0</td>\n",
       "      <td>1</td>\n",
       "      <td>0</td>\n",
       "      <td>0</td>\n",
       "      <td>1</td>\n",
       "    </tr>\n",
       "    <tr>\n",
       "      <th>8</th>\n",
       "      <td>HP</td>\n",
       "      <td>52990</td>\n",
       "      <td>4.3</td>\n",
       "      <td>Intel</td>\n",
       "      <td>Intel Core i5</td>\n",
       "      <td>11</td>\n",
       "      <td>16</td>\n",
       "      <td>Windows 11</td>\n",
       "      <td>15.6</td>\n",
       "      <td>0</td>\n",
       "      <td>512</td>\n",
       "      <td>0</td>\n",
       "      <td>1</td>\n",
       "    </tr>\n",
       "    <tr>\n",
       "      <th>9</th>\n",
       "      <td>Lenovo</td>\n",
       "      <td>35990</td>\n",
       "      <td>4.2</td>\n",
       "      <td>Intel</td>\n",
       "      <td>Intel Core i3</td>\n",
       "      <td>11</td>\n",
       "      <td>8</td>\n",
       "      <td>Windows 11</td>\n",
       "      <td>15.6</td>\n",
       "      <td>0</td>\n",
       "      <td>512</td>\n",
       "      <td>0</td>\n",
       "      <td>2</td>\n",
       "    </tr>\n",
       "  </tbody>\n",
       "</table>\n",
       "</div>"
      ],
      "text/plain": [
       "  clean_name  clean_price  clean_rating processor_brand    processor_core  \\\n",
       "0         HP        49990           4.3           Intel     Intel Core i5   \n",
       "1         HP        41990           4.2           Intel     Intel Core i3   \n",
       "2         HP        31990           4.0             AMD  Ryzen Multi Core   \n",
       "3      APPLE        75990           4.7           Apple                M1   \n",
       "4       ASUS        40990           4.3           Intel     Intel Core i5   \n",
       "5       ASUS        34990           4.3           Intel     Intel Core i3   \n",
       "6     Lenovo        33990           4.1             AMD           Ryzen 5   \n",
       "7         HP        19990           3.7           Intel  Intel Multi Core   \n",
       "8         HP        52990           4.3           Intel     Intel Core i5   \n",
       "9     Lenovo        35990           4.2           Intel     Intel Core i3   \n",
       "\n",
       "   generation  clean_ram     clean_os  clean_display  touchscreen  clean_ssd  \\\n",
       "0          11          8  Windows 11            15.6            0        512   \n",
       "1          12          8  Windows 11            14.0            0        512   \n",
       "2           0          8  Windows 11            15.6            0        512   \n",
       "3           0          8      Mac OS            13.3            0        256   \n",
       "4          11          8  Windows 11            15.6            0        512   \n",
       "5          11          8  Windows 11            15.6            0        512   \n",
       "6           0          8  Windows 11            15.6            0        512   \n",
       "7           0          4      Chrome            14.0            1          0   \n",
       "8          11         16  Windows 11            15.6            0        512   \n",
       "9          11          8  Windows 11            15.6            0        512   \n",
       "\n",
       "   clean_hdd  clean_warranty  \n",
       "0          0               1  \n",
       "1          0               1  \n",
       "2          0               1  \n",
       "3          0               1  \n",
       "4          0               1  \n",
       "5          0               1  \n",
       "6          0               1  \n",
       "7          0               1  \n",
       "8          0               1  \n",
       "9          0               2  "
      ]
     },
     "execution_count": 44,
     "metadata": {},
     "output_type": "execute_result"
    }
   ],
   "source": [
    "df.head(10)"
   ]
  },
  {
   "cell_type": "markdown",
   "id": "0fd7d80a",
   "metadata": {},
   "source": [
    "### Pandas Profiling"
   ]
  },
  {
   "cell_type": "code",
   "execution_count": 45,
   "id": "0c0ed29b",
   "metadata": {},
   "outputs": [],
   "source": [
    "from pandas_profiling import ProfileReport\n",
    "prof = ProfileReport(df)\n",
    "prof.to_file(output_file = 'ouput.html')"
   ]
  },
  {
   "cell_type": "code",
   "execution_count": 46,
   "id": "17e6857f",
   "metadata": {},
   "outputs": [],
   "source": [
    "df.to_csv('Clean_Laptop_Data.csv', index=False)  # Set index=False to exclude the index column in the CSV"
   ]
  },
  {
   "cell_type": "code",
   "execution_count": null,
   "id": "c5d4546d",
   "metadata": {},
   "outputs": [],
   "source": []
  }
 ],
 "metadata": {
  "kernelspec": {
   "display_name": "Python 3 (ipykernel)",
   "language": "python",
   "name": "python3"
  },
  "language_info": {
   "codemirror_mode": {
    "name": "ipython",
    "version": 3
   },
   "file_extension": ".py",
   "mimetype": "text/x-python",
   "name": "python",
   "nbconvert_exporter": "python",
   "pygments_lexer": "ipython3",
   "version": "3.9.13"
  }
 },
 "nbformat": 4,
 "nbformat_minor": 5
}
